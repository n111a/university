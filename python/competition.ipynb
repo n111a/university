{
  "nbformat": 4,
  "nbformat_minor": 0,
  "metadata": {
    "colab": {
      "name": "Untitled11.ipynb",
      "provenance": []
    },
    "kernelspec": {
      "name": "python3",
      "display_name": "Python 3"
    },
    "language_info": {
      "name": "python"
    }
  },
  "cells": [
    {
      "cell_type": "code",
      "execution_count": 1,
      "metadata": {
        "colab": {
          "base_uri": "https://localhost:8080/"
        },
        "id": "GWIbRv87rwVt",
        "outputId": "6c7cc395-a265-4f59-91be-0d770f034538"
      },
      "outputs": [
        {
          "output_type": "stream",
          "name": "stdout",
          "text": [
            "Archive:  /content/drive/MyDrive/train.csv.zip\n",
            "  inflating: train.csv               \n"
          ]
        }
      ],
      "source": [
        "!unzip /content/drive/MyDrive/train.csv.zip"
      ]
    },
    {
      "cell_type": "code",
      "source": [
        "!unzip /content/drive/MyDrive/test.csv.zip"
      ],
      "metadata": {
        "colab": {
          "base_uri": "https://localhost:8080/"
        },
        "id": "eSYA5Y4tr_4v",
        "outputId": "c4252894-9f89-46c2-9181-f87e5d424d55"
      },
      "execution_count": 2,
      "outputs": [
        {
          "output_type": "stream",
          "name": "stdout",
          "text": [
            "Archive:  /content/drive/MyDrive/test.csv.zip\n",
            "  inflating: test.csv                \n"
          ]
        }
      ]
    },
    {
      "cell_type": "code",
      "source": [
        "import pandas as pd\n",
        "train = pd.read_csv('/content/train.csv', sep=',')"
      ],
      "metadata": {
        "id": "KZ7wGH6NsDXF"
      },
      "execution_count": 3,
      "outputs": []
    },
    {
      "cell_type": "code",
      "source": [
        "train= train.fillna(train.median())"
      ],
      "metadata": {
        "id": "42kXzXe8sEQR"
      },
      "execution_count": 4,
      "outputs": []
    },
    {
      "cell_type": "code",
      "source": [
        "train = train.iloc[10000:50000]"
      ],
      "metadata": {
        "id": "EONswzB4VgGZ"
      },
      "execution_count": 8,
      "outputs": []
    },
    {
      "cell_type": "code",
      "source": [
        "x = train.iloc[:,1:111]\n",
        "y = train['label'] "
      ],
      "metadata": {
        "id": "borlErr8sYow"
      },
      "execution_count": 9,
      "outputs": []
    },
    {
      "cell_type": "code",
      "source": [
        "test = pd.read_csv('/content/test.csv', sep=',')\n",
        "test= test.fillna(train.median())\n",
        "test = test.drop(test.columns[0:1], axis = 1)"
      ],
      "metadata": {
        "id": "8uC6mKqtsmEI"
      },
      "execution_count": 10,
      "outputs": []
    },
    {
      "cell_type": "code",
      "source": [
        "from sklearn.model_selection import cross_val_score\n",
        "from sklearn.svm import SVC\n",
        "from sklearn.neighbors import KNeighborsClassifier\n",
        "from sklearn.tree import DecisionTreeClassifier\n",
        "from sklearn.ensemble import VotingClassifier\n",
        "from sklearn.ensemble import AdaBoostClassifier\n",
        "\n",
        "clf1 = SVC(C=1.6, probability=True)\n",
        "clf2 = KNeighborsClassifier(n_neighbors=4)\n",
        "clf3 = AdaBoostClassifier(n_estimators=100)\n",
        "\n",
        "eclf = VotingClassifier(estimators=[('svc', clf1), ('knn', clf2), ('abc', clf3)], voting='soft', weights=[2.8, 2, 1])\n",
        "\n",
        "clf1 = clf1.fit(x, y)\n",
        "clf2 = clf2.fit(x, y)\n",
        "clf3 = clf3.fit(x, y)\n",
        "eclf = eclf.fit(x, y)\n",
        "\n"
      ],
      "metadata": {
        "id": "1Efdl0FUsqfV"
      },
      "execution_count": 14,
      "outputs": []
    },
    {
      "cell_type": "code",
      "source": [
        "prediction = eclf.predict(test)"
      ],
      "metadata": {
        "id": "XsqGvtJEDgo_"
      },
      "execution_count": 15,
      "outputs": []
    },
    {
      "cell_type": "code",
      "source": [
        "import numpy as np\n",
        "df = pd.DataFrame(np.column_stack((np.arange(10000), prediction)), columns =['id','label']) \n",
        "df.to_csv('/content/drive/MyDrive/an4.csv', index=False)\n"
      ],
      "metadata": {
        "id": "J0-kolURvfVb"
      },
      "execution_count": 16,
      "outputs": []
    }
  ]
}