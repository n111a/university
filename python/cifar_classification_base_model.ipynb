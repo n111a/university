{
  "nbformat": 4,
  "nbformat_minor": 0,
  "metadata": {
    "colab": {
      "provenance": []
    },
    "kernelspec": {
      "name": "python3",
      "display_name": "Python 3"
    },
    "language_info": {
      "name": "python"
    }
  },
  "cells": [
    {
      "cell_type": "code",
      "source": [
        "!tar xvzf '/content/drive/MyDrive/cifar-100-python.tar.gz'"
      ],
      "metadata": {
        "colab": {
          "base_uri": "https://localhost:8080/"
        },
        "id": "ncznEe2rf0n7",
        "outputId": "03a4f1c7-bc22-4811-fd1b-3c1f8f30a860"
      },
      "execution_count": 34,
      "outputs": [
        {
          "output_type": "stream",
          "name": "stdout",
          "text": [
            "cifar-100-python/\n",
            "cifar-100-python/file.txt~\n",
            "cifar-100-python/train\n",
            "cifar-100-python/test\n",
            "cifar-100-python/meta\n"
          ]
        }
      ]
    },
    {
      "cell_type": "code",
      "execution_count": 32,
      "metadata": {
        "id": "JWpjOpRld63R"
      },
      "outputs": [],
      "source": [
        "import torch\n",
        "import numpy as np\n",
        "import os\n",
        "torch.manual_seed(100)\n",
        "import cv2\n",
        "import pandas as pd\n",
        "import matplotlib.pyplot as plt\n",
        "from sklearn.model_selection import train_test_split\n",
        "import matplotlib.pyplot as plt"
      ]
    },
    {
      "cell_type": "code",
      "source": [
        "from google.colab import drive\n",
        "drive.mount('/content/drive')"
      ],
      "metadata": {
        "colab": {
          "base_uri": "https://localhost:8080/"
        },
        "id": "bN315zGzfYUn",
        "outputId": "16b6de82-b9c0-459a-a745-4bd937b71491"
      },
      "execution_count": 33,
      "outputs": [
        {
          "output_type": "stream",
          "name": "stdout",
          "text": [
            "Drive already mounted at /content/drive; to attempt to forcibly remount, call drive.mount(\"/content/drive\", force_remount=True).\n"
          ]
        }
      ]
    },
    {
      "cell_type": "code",
      "source": [
        "train = pd.read_pickle('/content/cifar-100-python/train')\n",
        "dtrain = pd.DataFrame.from_dict(train, orient='index')\n",
        "dtrain = dtrain.T"
      ],
      "metadata": {
        "id": "x7oZ2L11j7U9"
      },
      "execution_count": 35,
      "outputs": []
    },
    {
      "cell_type": "code",
      "source": [
        "test = pd.read_pickle('/content/cifar-100-python/test')\n",
        "dtest = pd.DataFrame.from_dict(test, orient='index')\n",
        "dtest = dtest.T"
      ],
      "metadata": {
        "id": "nPJXqCbKkQa-"
      },
      "execution_count": 36,
      "outputs": []
    },
    {
      "cell_type": "code",
      "source": [
        "meta = pd.read_pickle('/content/cifar-100-python/meta')\n",
        "dmeta = pd.DataFrame.from_dict(meta, orient='index')\n",
        "dmeta = dmeta.T"
      ],
      "metadata": {
        "id": "_IAoXvtdklrW"
      },
      "execution_count": 37,
      "outputs": []
    },
    {
      "cell_type": "code",
      "source": [
        "labels = list(pd.read_pickle('/content/cifar-100-python/meta')['fine_label_names'])"
      ],
      "metadata": {
        "id": "SsJaCribkxtT"
      },
      "execution_count": 38,
      "outputs": []
    },
    {
      "cell_type": "code",
      "source": [
        "labels_idx = {v:k for (k,v) in enumerate(labels)}\n",
        "idx_labels = {k:v for (k,v) in enumerate(labels)}"
      ],
      "metadata": {
        "id": "LZykR47Hk-cS"
      },
      "execution_count": 39,
      "outputs": []
    },
    {
      "cell_type": "code",
      "source": [
        "img = np.array(dtrain[dtrain['fine_labels'] == 25].iloc[10]['data']).reshape(3,32,32)\n",
        "plt.imshow(img.transpose(1,2,0).astype(\"uint8\"), interpolation='nearest')"
      ],
      "metadata": {
        "colab": {
          "base_uri": "https://localhost:8080/",
          "height": 283
        },
        "id": "UXY5xJ0slHPq",
        "outputId": "0339b866-4277-4a2b-e38f-86d2db1a1022"
      },
      "execution_count": 46,
      "outputs": [
        {
          "output_type": "execute_result",
          "data": {
            "text/plain": [
              "<matplotlib.image.AxesImage at 0x7f1963a49190>"
            ]
          },
          "metadata": {},
          "execution_count": 46
        },
        {
          "output_type": "display_data",
          "data": {
            "text/plain": [
              "<Figure size 432x288 with 1 Axes>"
            ],
            "image/png": "[encoded data removed]"
          },
          "metadata": {
            "needs_background": "light"
          }
        }
      ]
    },
    {
      "cell_type": "code",
      "source": [
        "features_train = np.array((np.stack(dtrain['data'].values, axis=0)).reshape(len(dtrain['data'].values), 3072)/255).astype('float32')\n",
        "labels_train = np.array(dtrain['fine_labels'].values).astype('int64')"
      ],
      "metadata": {
        "id": "qgypkQZbljsb"
      },
      "execution_count": 129,
      "outputs": []
    },
    {
      "cell_type": "code",
      "source": [
        "features_test = np.array((np.stack(dtest['data'].values, axis=0)).reshape(len(dtest['data'].values), 3072)/255).astype('float32')\n",
        "labels_test = np.array(dtest['fine_labels'].values).astype('int64')"
      ],
      "metadata": {
        "id": "mRUCaBwvlrae"
      },
      "execution_count": 130,
      "outputs": []
    },
    {
      "cell_type": "code",
      "source": [],
      "metadata": {
        "id": "0W24lCp2lvWj"
      },
      "execution_count": 42,
      "outputs": []
    },
    {
      "cell_type": "code",
      "source": [
        "import torch\n",
        "from torch.utils.data import Dataset\n",
        "from torchvision import datasets\n",
        "from torchvision.transforms import ToTensor, RandomHorizontalFlip, RandomVerticalFlip\n",
        "import matplotlib.pyplot as plt\n",
        "\n",
        "class CustomImageDataset(Dataset):\n",
        "    def __init__(self, imgs, lbs, transform=None, target_transform=None):\n",
        "\n",
        "        self.transform = transform\n",
        "        self.target_transform = target_transform \n",
        "        self.images = imgs\n",
        "        self.labels = lbs\n",
        "\n",
        "    def __len__(self):\n",
        "        return len(self.labels)\n",
        "\n",
        "    def __getitem__(self, idx):\n",
        "        image = self.images[idx]\n",
        "        label = self.labels[idx]\n",
        "        if self.transform:\n",
        "            image = self.transform(image)\n",
        "        return image, label"
      ],
      "metadata": {
        "id": "NOHka62UnFdw"
      },
      "execution_count": 131,
      "outputs": []
    },
    {
      "cell_type": "code",
      "source": [
        "from torchvision import transforms, utils\n",
        "\n",
        "train_transform = transforms.Compose([ ToTensor(),\n",
        "                                      transforms.Resize(48)])\n",
        "\n",
        "test_transform = transforms.Compose([ ToTensor(),  transforms.Resize(48)])\n",
        "                              #transforms.RandomAffine((0,90)),  RandomHorizontalFlip(0.5),\n",
        "                              #])\n",
        "training_data = CustomImageDataset(\n",
        "    imgs = features_train, \n",
        "    lbs = labels_train\n",
        ")\n",
        "\n",
        "test_data = CustomImageDataset(\n",
        "    imgs = features_test, \n",
        "    lbs = labels_test\n",
        ")\n",
        "\n"
      ],
      "metadata": {
        "id": "gAHG6q9UlyED"
      },
      "execution_count": 132,
      "outputs": []
    },
    {
      "cell_type": "code",
      "source": [
        "training_data.images.shape"
      ],
      "metadata": {
        "colab": {
          "base_uri": "https://localhost:8080/"
        },
        "id": "dWanTfaWqIZ7",
        "outputId": "553288f6-c037-4f1f-d4a2-da68f76c5fd7"
      },
      "execution_count": 133,
      "outputs": [
        {
          "output_type": "execute_result",
          "data": {
            "text/plain": [
              "(50000, 3072)"
            ]
          },
          "metadata": {},
          "execution_count": 133
        }
      ]
    },
    {
      "cell_type": "code",
      "source": [
        "from torch.utils.data import DataLoader\n",
        "\n",
        "train_dataloader = DataLoader(training_data, batch_size=64, shuffle=True)\n",
        "test_dataloader = DataLoader(test_data, batch_size=64, shuffle=False)"
      ],
      "metadata": {
        "id": "K86kAi00qXP0"
      },
      "execution_count": 134,
      "outputs": []
    },
    {
      "cell_type": "code",
      "source": [
        "from torch import nn"
      ],
      "metadata": {
        "id": "e3JOlJmKsSsA"
      },
      "execution_count": 135,
      "outputs": []
    },
    {
      "cell_type": "code",
      "source": [
        "class NeuralNetwork(nn.Module):\n",
        "    def __init__(self):\n",
        "        super(NeuralNetwork, self).__init__()\n",
        "        self.linear_relu_stack = nn.Sequential(\n",
        "            nn.Linear(3*32*32, 512),\n",
        "            nn.ReLU(),\n",
        "            nn.Dropout(0,2),\n",
        "            nn.Linear(512, 100),\n",
        "\n",
        "        )\n",
        "    def forward(self, x):\n",
        "        logits = self.linear_relu_stack(x)\n",
        "        return logits"
      ],
      "metadata": {
        "id": "mhy18dGAsVPv"
      },
      "execution_count": 144,
      "outputs": []
    },
    {
      "cell_type": "code",
      "source": [
        "device = 'cuda' if torch.cuda.is_available() else 'cpu'\n",
        "print(f'Using {device} device')"
      ],
      "metadata": {
        "colab": {
          "base_uri": "https://localhost:8080/"
        },
        "id": "7tR0fhdose_9",
        "outputId": "3b351cc7-7662-4406-f802-81ff22d5d592"
      },
      "execution_count": 145,
      "outputs": [
        {
          "output_type": "stream",
          "name": "stdout",
          "text": [
            "Using cpu device\n"
          ]
        }
      ]
    },
    {
      "cell_type": "code",
      "source": [
        "model = NeuralNetwork().to(device)\n",
        "print(model)"
      ],
      "metadata": {
        "colab": {
          "base_uri": "https://localhost:8080/"
        },
        "id": "F80WeXKOshx0",
        "outputId": "4119b602-81d5-4530-db6d-b768971aceb2"
      },
      "execution_count": 146,
      "outputs": [
        {
          "output_type": "stream",
          "name": "stdout",
          "text": [
            "NeuralNetwork(\n",
            "  (linear_relu_stack): Sequential(\n",
            "    (0): Linear(in_features=3072, out_features=512, bias=True)\n",
            "    (1): ReLU()\n",
            "    (2): Dropout(p=0, inplace=2)\n",
            "    (3): Linear(in_features=512, out_features=100, bias=True)\n",
            "  )\n",
            ")\n"
          ]
        }
      ]
    },
    {
      "cell_type": "code",
      "source": [
        "loss_fn = nn.CrossEntropyLoss()"
      ],
      "metadata": {
        "id": "0pWpAbjasj_y"
      },
      "execution_count": 147,
      "outputs": []
    },
    {
      "cell_type": "code",
      "source": [
        "learning_rate = 1e-3\n",
        "#optimizer = torch.optim.SGD(model.parameters(), lr=learning_rate)\n",
        "optimizer = torch.optim.Adam(model.parameters(), lr=learning_rate)"
      ],
      "metadata": {
        "id": "xgMLbu4Esmdn"
      },
      "execution_count": 148,
      "outputs": []
    },
    {
      "cell_type": "code",
      "source": [
        "def train_loop(dataloader, model, loss_fn, optimizer):\n",
        "    size = len(dataloader.dataset)\n",
        "    for batch, (X, y) in enumerate(dataloader):\n",
        "        # Получаем предсказания модели для данного батча\n",
        "        pred = model(X)\n",
        "        # Вычисляем лосс\n",
        "        loss = loss_fn(pred, y)\n",
        "\n",
        "        # Backpropagation\n",
        "        # Обнуляем градиенты\n",
        "        optimizer.zero_grad()\n",
        "        # Вычисляем градиент лосса по параметрам модели\n",
        "        loss.backward()\n",
        "        # Производим шаг алгоритма оптимизации\n",
        "        optimizer.step()\n",
        "\n",
        "        if batch % 100 == 0:\n",
        "            loss, current = loss.item(), batch * len(X)\n",
        "            print(f\"loss: {loss:>7f}  [{current:>5d}/{size:>5d}]\")"
      ],
      "metadata": {
        "id": "00NQjwQesoy4"
      },
      "execution_count": 149,
      "outputs": []
    },
    {
      "cell_type": "code",
      "source": [
        "def test_loop(dataloader, model, loss_fn):\n",
        "    size = len(dataloader.dataset)\n",
        "    num_batches = len(dataloader)\n",
        "    test_loss, correct = 0, 0\n",
        "\n",
        "    with torch.no_grad():\n",
        "        for X, y in dataloader:\n",
        "            pred = model(X)\n",
        "            test_loss += loss_fn(pred, y).item()\n",
        "            correct += (pred.argmax(1) == y).type(torch.float).sum().item()\n",
        "\n",
        "    test_loss /= num_batches\n",
        "    correct /= size\n",
        "    print(f\"Test Error: \\n Accuracy: {(100*correct):>0.1f}%, Avg loss: {test_loss:>8f} \\n\")\n",
        "    return correct"
      ],
      "metadata": {
        "id": "9V2RFDxSsuPK"
      },
      "execution_count": 150,
      "outputs": []
    },
    {
      "cell_type": "code",
      "source": [
        "epochs = 30\n",
        "for t in range(epochs):\n",
        "    print(f\"Epoch {t+1}\\n-------------------------------\")\n",
        "    model.train(True)\n",
        "    train_loop(train_dataloader, model, loss_fn, optimizer)\n",
        "    model.train(False)\n",
        "    test_loop(test_dataloader, model, loss_fn)\n",
        "    #test_loop(train_dataloader, model, loss_fn)\n",
        "print(\"Done!\")"
      ],
      "metadata": {
        "colab": {
          "base_uri": "https://localhost:8080/"
        },
        "id": "kBHe3HQlsw-L",
        "outputId": "d107999e-4a22-43b0-f2ad-2c6ef62eedd8"
      },
      "execution_count": 151,
      "outputs": [
        {
          "output_type": "stream",
          "name": "stdout",
          "text": [
            "Epoch 1\n",
            "-------------------------------\n",
            "loss: 4.644485  [    0/50000]\n",
            "loss: 4.308714  [ 6400/50000]\n",
            "loss: 4.243946  [12800/50000]\n",
            "loss: 4.272116  [19200/50000]\n",
            "loss: 3.902598  [25600/50000]\n",
            "loss: 3.703589  [32000/50000]\n",
            "loss: 3.853667  [38400/50000]\n",
            "loss: 3.706582  [44800/50000]\n",
            "Test Error: \n",
            " Accuracy: 11.3%, Avg loss: 3.830873 \n",
            "\n",
            "Epoch 2\n",
            "-------------------------------\n",
            "loss: 3.695048  [    0/50000]\n",
            "loss: 3.763915  [ 6400/50000]\n",
            "loss: 3.718596  [12800/50000]\n",
            "loss: 3.679045  [19200/50000]\n",
            "loss: 3.957357  [25600/50000]\n",
            "loss: 3.851039  [32000/50000]\n",
            "loss: 3.436349  [38400/50000]\n",
            "loss: 3.421137  [44800/50000]\n",
            "Test Error: \n",
            " Accuracy: 13.9%, Avg loss: 3.711710 \n",
            "\n",
            "Epoch 3\n",
            "-------------------------------\n",
            "loss: 3.746388  [    0/50000]\n",
            "loss: 3.754768  [ 6400/50000]\n",
            "loss: 3.125389  [12800/50000]\n",
            "loss: 3.856167  [19200/50000]\n",
            "loss: 4.004077  [25600/50000]\n",
            "loss: 3.671296  [32000/50000]\n",
            "loss: 3.452407  [38400/50000]\n",
            "loss: 3.521866  [44800/50000]\n",
            "Test Error: \n",
            " Accuracy: 15.4%, Avg loss: 3.650307 \n",
            "\n",
            "Epoch 4\n",
            "-------------------------------\n",
            "loss: 3.601533  [    0/50000]\n",
            "loss: 3.481802  [ 6400/50000]\n",
            "loss: 3.628449  [12800/50000]\n",
            "loss: 3.427707  [19200/50000]\n",
            "loss: 3.811645  [25600/50000]\n",
            "loss: 3.509508  [32000/50000]\n",
            "loss: 3.742239  [38400/50000]\n",
            "loss: 3.785836  [44800/50000]\n",
            "Test Error: \n",
            " Accuracy: 16.4%, Avg loss: 3.589656 \n",
            "\n",
            "Epoch 5\n",
            "-------------------------------\n",
            "loss: 3.236788  [    0/50000]\n",
            "loss: 3.590594  [ 6400/50000]\n",
            "loss: 3.639405  [12800/50000]\n",
            "loss: 3.251198  [19200/50000]\n",
            "loss: 3.372941  [25600/50000]\n",
            "loss: 3.514601  [32000/50000]\n",
            "loss: 3.375005  [38400/50000]\n",
            "loss: 3.670544  [44800/50000]\n",
            "Test Error: \n",
            " Accuracy: 16.9%, Avg loss: 3.566894 \n",
            "\n",
            "Epoch 6\n",
            "-------------------------------\n",
            "loss: 3.299982  [    0/50000]\n",
            "loss: 3.426527  [ 6400/50000]\n",
            "loss: 3.627823  [12800/50000]\n",
            "loss: 3.139469  [19200/50000]\n",
            "loss: 3.241976  [25600/50000]\n",
            "loss: 3.455047  [32000/50000]\n",
            "loss: 3.411853  [38400/50000]\n",
            "loss: 3.124766  [44800/50000]\n",
            "Test Error: \n",
            " Accuracy: 17.1%, Avg loss: 3.523788 \n",
            "\n",
            "Epoch 7\n",
            "-------------------------------\n",
            "loss: 3.514703  [    0/50000]\n",
            "loss: 3.186637  [ 6400/50000]\n",
            "loss: 3.476161  [12800/50000]\n",
            "loss: 3.664948  [19200/50000]\n",
            "loss: 3.850629  [25600/50000]\n",
            "loss: 3.899949  [32000/50000]\n",
            "loss: 3.406847  [38400/50000]\n",
            "loss: 3.393897  [44800/50000]\n",
            "Test Error: \n",
            " Accuracy: 17.8%, Avg loss: 3.525365 \n",
            "\n",
            "Epoch 8\n",
            "-------------------------------\n",
            "loss: 3.446061  [    0/50000]\n",
            "loss: 3.337495  [ 6400/50000]\n",
            "loss: 3.386220  [12800/50000]\n",
            "loss: 3.020199  [19200/50000]\n",
            "loss: 3.403376  [25600/50000]\n",
            "loss: 3.395978  [32000/50000]\n",
            "loss: 3.613784  [38400/50000]\n",
            "loss: 3.211619  [44800/50000]\n",
            "Test Error: \n",
            " Accuracy: 17.7%, Avg loss: 3.499539 \n",
            "\n",
            "Epoch 9\n",
            "-------------------------------\n",
            "loss: 3.093052  [    0/50000]\n",
            "loss: 3.341059  [ 6400/50000]\n",
            "loss: 3.326858  [12800/50000]\n",
            "loss: 3.584055  [19200/50000]\n",
            "loss: 3.275393  [25600/50000]\n",
            "loss: 3.249839  [32000/50000]\n",
            "loss: 3.346984  [38400/50000]\n",
            "loss: 3.560915  [44800/50000]\n",
            "Test Error: \n",
            " Accuracy: 18.1%, Avg loss: 3.507383 \n",
            "\n",
            "Epoch 10\n",
            "-------------------------------\n",
            "loss: 2.967323  [    0/50000]\n",
            "loss: 3.249164  [ 6400/50000]\n",
            "loss: 3.334793  [12800/50000]\n",
            "loss: 3.448796  [19200/50000]\n",
            "loss: 3.865911  [25600/50000]\n",
            "loss: 3.539749  [32000/50000]\n",
            "loss: 3.244418  [38400/50000]\n",
            "loss: 3.698548  [44800/50000]\n",
            "Test Error: \n",
            " Accuracy: 18.0%, Avg loss: 3.512391 \n",
            "\n",
            "Epoch 11\n",
            "-------------------------------\n",
            "loss: 3.265282  [    0/50000]\n",
            "loss: 3.451930  [ 6400/50000]\n",
            "loss: 3.076074  [12800/50000]\n",
            "loss: 3.127835  [19200/50000]\n",
            "loss: 3.514719  [25600/50000]\n",
            "loss: 3.323938  [32000/50000]\n",
            "loss: 3.350666  [38400/50000]\n",
            "loss: 3.231067  [44800/50000]\n",
            "Test Error: \n",
            " Accuracy: 19.0%, Avg loss: 3.468784 \n",
            "\n",
            "Epoch 12\n",
            "-------------------------------\n",
            "loss: 3.164157  [    0/50000]\n",
            "loss: 3.328037  [ 6400/50000]\n",
            "loss: 3.481105  [12800/50000]\n",
            "loss: 3.453204  [19200/50000]\n",
            "loss: 3.451264  [25600/50000]\n",
            "loss: 3.241583  [32000/50000]\n",
            "loss: 3.187227  [38400/50000]\n",
            "loss: 3.593975  [44800/50000]\n",
            "Test Error: \n",
            " Accuracy: 18.9%, Avg loss: 3.472939 \n",
            "\n",
            "Epoch 13\n",
            "-------------------------------\n",
            "loss: 3.393329  [    0/50000]\n",
            "loss: 3.204692  [ 6400/50000]\n",
            "loss: 3.234584  [12800/50000]\n",
            "loss: 3.451431  [19200/50000]\n",
            "loss: 3.805758  [25600/50000]\n",
            "loss: 3.390420  [32000/50000]\n",
            "loss: 3.359910  [38400/50000]\n",
            "loss: 3.192595  [44800/50000]\n",
            "Test Error: \n",
            " Accuracy: 19.3%, Avg loss: 3.468813 \n",
            "\n",
            "Epoch 14\n",
            "-------------------------------\n",
            "loss: 3.412863  [    0/50000]\n",
            "loss: 3.344084  [ 6400/50000]\n",
            "loss: 3.379976  [12800/50000]\n",
            "loss: 3.132871  [19200/50000]\n",
            "loss: 3.284084  [25600/50000]\n",
            "loss: 3.063295  [32000/50000]\n",
            "loss: 3.364320  [38400/50000]\n",
            "loss: 3.504802  [44800/50000]\n",
            "Test Error: \n",
            " Accuracy: 19.0%, Avg loss: 3.478556 \n",
            "\n",
            "Epoch 15\n",
            "-------------------------------\n",
            "loss: 3.338220  [    0/50000]\n",
            "loss: 3.142750  [ 6400/50000]\n",
            "loss: 2.974162  [12800/50000]\n",
            "loss: 3.226488  [19200/50000]\n",
            "loss: 3.504705  [25600/50000]\n",
            "loss: 3.034893  [32000/50000]\n",
            "loss: 3.338337  [38400/50000]\n",
            "loss: 3.091587  [44800/50000]\n",
            "Test Error: \n",
            " Accuracy: 19.3%, Avg loss: 3.436458 \n",
            "\n",
            "Epoch 16\n",
            "-------------------------------\n",
            "loss: 3.273166  [    0/50000]\n",
            "loss: 3.302200  [ 6400/50000]\n",
            "loss: 3.563220  [12800/50000]\n",
            "loss: 3.337335  [19200/50000]\n",
            "loss: 3.255383  [25600/50000]\n",
            "loss: 3.191527  [32000/50000]\n",
            "loss: 3.476779  [38400/50000]\n",
            "loss: 3.516136  [44800/50000]\n",
            "Test Error: \n",
            " Accuracy: 19.5%, Avg loss: 3.446731 \n",
            "\n",
            "Epoch 17\n",
            "-------------------------------\n",
            "loss: 3.236489  [    0/50000]\n",
            "loss: 3.192971  [ 6400/50000]\n",
            "loss: 3.005492  [12800/50000]\n",
            "loss: 3.065020  [19200/50000]\n",
            "loss: 3.449524  [25600/50000]\n",
            "loss: 2.869802  [32000/50000]\n",
            "loss: 3.594497  [38400/50000]\n",
            "loss: 3.437467  [44800/50000]\n",
            "Test Error: \n",
            " Accuracy: 19.6%, Avg loss: 3.432760 \n",
            "\n",
            "Epoch 18\n",
            "-------------------------------\n",
            "loss: 3.306424  [    0/50000]\n",
            "loss: 3.018093  [ 6400/50000]\n",
            "loss: 2.988352  [12800/50000]\n",
            "loss: 3.376426  [19200/50000]\n",
            "loss: 2.909917  [25600/50000]\n",
            "loss: 3.142888  [32000/50000]\n",
            "loss: 2.766503  [38400/50000]\n",
            "loss: 3.027366  [44800/50000]\n",
            "Test Error: \n",
            " Accuracy: 20.0%, Avg loss: 3.435395 \n",
            "\n",
            "Epoch 19\n",
            "-------------------------------\n",
            "loss: 3.240933  [    0/50000]\n",
            "loss: 3.738639  [ 6400/50000]\n",
            "loss: 3.244886  [12800/50000]\n",
            "loss: 3.250711  [19200/50000]\n",
            "loss: 3.417498  [25600/50000]\n",
            "loss: 3.560786  [32000/50000]\n",
            "loss: 3.484681  [38400/50000]\n",
            "loss: 3.026575  [44800/50000]\n",
            "Test Error: \n",
            " Accuracy: 19.6%, Avg loss: 3.457474 \n",
            "\n",
            "Epoch 20\n",
            "-------------------------------\n",
            "loss: 3.464267  [    0/50000]\n",
            "loss: 3.026280  [ 6400/50000]\n",
            "loss: 3.399324  [12800/50000]\n",
            "loss: 3.508060  [19200/50000]\n",
            "loss: 3.307339  [25600/50000]\n",
            "loss: 3.180559  [32000/50000]\n",
            "loss: 2.939346  [38400/50000]\n",
            "loss: 3.235290  [44800/50000]\n",
            "Test Error: \n",
            " Accuracy: 20.0%, Avg loss: 3.442689 \n",
            "\n",
            "Epoch 21\n",
            "-------------------------------\n",
            "loss: 3.334725  [    0/50000]\n",
            "loss: 3.308594  [ 6400/50000]\n",
            "loss: 3.257854  [12800/50000]\n",
            "loss: 3.001624  [19200/50000]\n",
            "loss: 3.271441  [25600/50000]\n",
            "loss: 3.298277  [32000/50000]\n",
            "loss: 3.304280  [38400/50000]\n",
            "loss: 3.409952  [44800/50000]\n",
            "Test Error: \n",
            " Accuracy: 20.0%, Avg loss: 3.439303 \n",
            "\n",
            "Epoch 22\n",
            "-------------------------------\n",
            "loss: 3.162300  [    0/50000]\n",
            "loss: 3.100070  [ 6400/50000]\n",
            "loss: 3.158555  [12800/50000]\n",
            "loss: 3.037618  [19200/50000]\n",
            "loss: 3.525486  [25600/50000]\n",
            "loss: 3.176694  [32000/50000]\n",
            "loss: 3.262618  [38400/50000]\n",
            "loss: 3.207111  [44800/50000]\n",
            "Test Error: \n",
            " Accuracy: 20.3%, Avg loss: 3.425743 \n",
            "\n",
            "Epoch 23\n",
            "-------------------------------\n",
            "loss: 3.370763  [    0/50000]\n",
            "loss: 3.525078  [ 6400/50000]\n",
            "loss: 2.865269  [12800/50000]\n",
            "loss: 3.135201  [19200/50000]\n",
            "loss: 3.353873  [25600/50000]\n",
            "loss: 3.135091  [32000/50000]\n",
            "loss: 3.720824  [38400/50000]\n",
            "loss: 3.186208  [44800/50000]\n",
            "Test Error: \n",
            " Accuracy: 19.4%, Avg loss: 3.444917 \n",
            "\n",
            "Epoch 24\n",
            "-------------------------------\n",
            "loss: 2.990206  [    0/50000]\n",
            "loss: 3.272450  [ 6400/50000]\n",
            "loss: 3.299650  [12800/50000]\n",
            "loss: 3.224056  [19200/50000]\n",
            "loss: 3.431442  [25600/50000]\n",
            "loss: 3.010798  [32000/50000]\n",
            "loss: 3.302078  [38400/50000]\n",
            "loss: 3.193431  [44800/50000]\n",
            "Test Error: \n",
            " Accuracy: 19.7%, Avg loss: 3.455585 \n",
            "\n",
            "Epoch 25\n",
            "-------------------------------\n",
            "loss: 2.919226  [    0/50000]\n",
            "loss: 3.100601  [ 6400/50000]\n",
            "loss: 3.424531  [12800/50000]\n",
            "loss: 3.488472  [19200/50000]\n",
            "loss: 3.153967  [25600/50000]\n",
            "loss: 3.179172  [32000/50000]\n",
            "loss: 3.153552  [38400/50000]\n",
            "loss: 3.323220  [44800/50000]\n",
            "Test Error: \n",
            " Accuracy: 19.3%, Avg loss: 3.457932 \n",
            "\n",
            "Epoch 26\n",
            "-------------------------------\n",
            "loss: 3.512873  [    0/50000]\n",
            "loss: 2.988687  [ 6400/50000]\n",
            "loss: 2.825816  [12800/50000]\n",
            "loss: 3.245746  [19200/50000]\n",
            "loss: 3.237413  [25600/50000]\n",
            "loss: 3.126174  [32000/50000]\n",
            "loss: 3.245195  [38400/50000]\n",
            "loss: 2.936430  [44800/50000]\n",
            "Test Error: \n",
            " Accuracy: 19.2%, Avg loss: 3.457425 \n",
            "\n",
            "Epoch 27\n",
            "-------------------------------\n",
            "loss: 3.273901  [    0/50000]\n",
            "loss: 3.321341  [ 6400/50000]\n",
            "loss: 3.002681  [12800/50000]\n",
            "loss: 3.286376  [19200/50000]\n",
            "loss: 3.275460  [25600/50000]\n",
            "loss: 3.298650  [32000/50000]\n",
            "loss: 2.789889  [38400/50000]\n",
            "loss: 3.309479  [44800/50000]\n",
            "Test Error: \n",
            " Accuracy: 19.6%, Avg loss: 3.444533 \n",
            "\n",
            "Epoch 28\n",
            "-------------------------------\n",
            "loss: 3.230566  [    0/50000]\n",
            "loss: 3.298586  [ 6400/50000]\n",
            "loss: 3.379019  [12800/50000]\n",
            "loss: 3.468816  [19200/50000]\n",
            "loss: 2.988464  [25600/50000]\n",
            "loss: 3.359051  [32000/50000]\n",
            "loss: 3.027820  [38400/50000]\n",
            "loss: 3.337379  [44800/50000]\n",
            "Test Error: \n",
            " Accuracy: 19.5%, Avg loss: 3.487624 \n",
            "\n",
            "Epoch 29\n",
            "-------------------------------\n",
            "loss: 3.239666  [    0/50000]\n",
            "loss: 3.049948  [ 6400/50000]\n",
            "loss: 3.116970  [12800/50000]\n",
            "loss: 3.425271  [19200/50000]\n",
            "loss: 3.096189  [25600/50000]\n",
            "loss: 3.089371  [32000/50000]\n",
            "loss: 3.400540  [38400/50000]\n",
            "loss: 3.420500  [44800/50000]\n",
            "Test Error: \n",
            " Accuracy: 19.2%, Avg loss: 3.450944 \n",
            "\n",
            "Epoch 30\n",
            "-------------------------------\n",
            "loss: 2.895401  [    0/50000]\n",
            "loss: 3.426814  [ 6400/50000]\n",
            "loss: 3.086665  [12800/50000]\n",
            "loss: 3.295993  [19200/50000]\n",
            "loss: 2.838211  [25600/50000]\n",
            "loss: 3.038017  [32000/50000]\n",
            "loss: 3.076800  [38400/50000]\n",
            "loss: 2.901983  [44800/50000]\n",
            "Test Error: \n",
            " Accuracy: 19.7%, Avg loss: 3.454983 \n",
            "\n",
            "Done!\n"
          ]
        }
      ]
    },
    {
      "cell_type": "code",
      "source": [
        "checkpoint_filename = \"my_model.pt\"\n",
        "torch.save(model.state_dict(), checkpoint_filename)"
      ],
      "metadata": {
        "id": "Z2G3WUhUvt20"
      },
      "execution_count": 152,
      "outputs": []
    },
    {
      "cell_type": "markdown",
      "source": [
        "Best 20.3%"
      ],
      "metadata": {
        "id": "w3sh32MPzMvK"
      }
    }
  ]
}